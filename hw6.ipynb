{
 "cells": [
  {
   "cell_type": "markdown",
   "metadata": {
    "collapsed": true
   },
   "source": [
    "## Q1.\n",
    "\n",
    "Add a __setitem__ to the python linked list implementation from the lecture (this past wednesday)."
   ]
  },
  {
   "cell_type": "code",
   "execution_count": 9,
   "metadata": {
    "collapsed": true
   },
   "outputs": [],
   "source": [
    "from doctest import run_docstring_examples as dtest\n",
    "import numbers\n",
    "import reprlib\n",
    "class LL:\n",
    "    \"\"\"\n",
    "    >>> A = LL()  \n",
    "    >>> A[0]\n",
    "    Traceback (most recent call last):\n",
    "        ...\n",
    "    IndexError: trying to index an empty LL\n",
    "    >>> A.insert_front(1)\n",
    "    >>> A[0]\n",
    "    1\n",
    "    >>> A.insert_back(2)\n",
    "    >>> A[1]\n",
    "    2\n",
    "    >>> A\n",
    "    LL([1,...])\n",
    "    >>> myll = LL.from_components([1,2])\n",
    "    >>> myll[1]\n",
    "    1\n",
    "    >>> myll[1] = 3\n",
    "    >>> len(myll)\n",
    "    2\n",
    "    >>> myll[2]\n",
    "    Traceback (most recent call last):\n",
    "        ...\n",
    "    IndexError: LL index out of range\n",
    "    >>> myll[2] = 3\n",
    "    Traceback (most recent call last):\n",
    "        ...\n",
    "    IndexError: LL index out of range\n",
    "    >>> myll[0:1]\n",
    "    Traceback (most recent call last):\n",
    "        ...\n",
    "    TypeError: LL indices must be integers\n",
    "    \"\"\"\n",
    "    @classmethod\n",
    "    def from_components(cls, components):\n",
    "        inst = cls(components[0])\n",
    "        for c in components[1:]:\n",
    "            inst.insert_front(c)\n",
    "        return inst\n",
    "        \n",
    "    def __init__(self, head=None):\n",
    "        if head is None:\n",
    "            self._headNode = None\n",
    "        else:\n",
    "            self._headNode = [head, None]\n",
    "            \n",
    "    def insert_front(self, element):\n",
    "        new_node = [element, None]\n",
    "        new_node[1] = self._headNode\n",
    "        self._headNode = new_node\n",
    "        \n",
    "    def insert_back(self, element):\n",
    "        new_node = [element, None]\n",
    "        curr_ptr = self._headNode\n",
    "        while curr_ptr[1] is not None:\n",
    "            curr_ptr = curr_ptr[1]\n",
    "        curr_ptr[1]= new_node\n",
    "        \n",
    "    def __repr__(self):\n",
    "        class_name = type(self).__name__\n",
    "        if len(self)==0:\n",
    "            components=\"\"\n",
    "        else:\n",
    "            components = reprlib.repr(self[0])\n",
    "        return '{}([{},...])'.format(class_name,components)\n",
    "\n",
    "    def __len__(self):\n",
    "        curr_ptr = self._headNode\n",
    "        count = 0\n",
    "        if curr_ptr==None:\n",
    "            return 0\n",
    "        while 1:\n",
    "            count = count + 1\n",
    "            if curr_ptr[1] is None:\n",
    "                break\n",
    "            curr_ptr = curr_ptr[1]\n",
    "        return count    \n",
    "    \n",
    "    def __getitem__(self, index):\n",
    "        class_name = type(self).__name__\n",
    "        if isinstance(index, numbers.Integral): \n",
    "            curr_ptr = self._headNode\n",
    "            if curr_ptr==None:\n",
    "                msg = 'trying to index an empty {class_name}' \n",
    "                raise IndexError(msg.format(class_name=class_name))\n",
    "            next_ptr = self._headNode[1]\n",
    "            count = 0\n",
    "            while 1:\n",
    "                if index == count:\n",
    "                    return curr_ptr[0]\n",
    "                if curr_ptr[1] is None:\n",
    "                    msg = '{class_name} index out of range' \n",
    "                    raise IndexError(msg.format(class_name=class_name))       \n",
    "                count += 1\n",
    "                curr_ptr = curr_ptr[1]\n",
    "        else:\n",
    "            msg = '{class_name} indices must be integers' \n",
    "            raise TypeError(msg.format(class_name=class_name))\n",
    "    \n",
    "    #your code here\n",
    "    def __setitem__(self, index, item):\n",
    "        class_name = type(self).__name__\n",
    "        if isinstance(index, numbers.Integral): \n",
    "            curr_ptr = self._headNode\n",
    "            if curr_ptr==None:\n",
    "                msg = 'trying to index an empty {class_name}' \n",
    "                raise IndexError(msg.format(class_name=class_name))\n",
    "            next_ptr = self._headNode[1]\n",
    "            count = 0\n",
    "            while 1:\n",
    "                if index == count:\n",
    "                    curr_ptr[0] = item\n",
    "                    return \n",
    "                if curr_ptr[1] is None:\n",
    "                    msg = '{class_name} index out of range' \n",
    "                    raise IndexError(msg.format(class_name=class_name))       \n",
    "                count += 1\n",
    "                curr_ptr = curr_ptr[1]\n",
    "        else:\n",
    "            msg = '{class_name} indices must be integers' \n",
    "            raise TypeError(msg.format(class_name=class_name))"
   ]
  },
  {
   "cell_type": "code",
   "execution_count": 11,
   "metadata": {
    "collapsed": false
   },
   "outputs": [
    {
     "name": "stdout",
     "output_type": "stream",
     "text": [
      "Finding tests in NoName\n",
      "Trying:\n",
      "    A = LL()  \n",
      "Expecting nothing\n",
      "ok\n",
      "Trying:\n",
      "    A[0]\n",
      "Expecting:\n",
      "    Traceback (most recent call last):\n",
      "        ...\n",
      "    IndexError: trying to index an empty LL\n",
      "ok\n",
      "Trying:\n",
      "    A.insert_front(1)\n",
      "Expecting nothing\n",
      "ok\n",
      "Trying:\n",
      "    A[0]\n",
      "Expecting:\n",
      "    1\n",
      "ok\n",
      "Trying:\n",
      "    A.insert_back(2)\n",
      "Expecting nothing\n",
      "ok\n",
      "Trying:\n",
      "    A[1]\n",
      "Expecting:\n",
      "    2\n",
      "ok\n",
      "Trying:\n",
      "    A\n",
      "Expecting:\n",
      "    LL([1,...])\n",
      "ok\n",
      "Trying:\n",
      "    myll = LL.from_components([1,2])\n",
      "Expecting nothing\n",
      "ok\n",
      "Trying:\n",
      "    myll[1]\n",
      "Expecting:\n",
      "    1\n",
      "ok\n",
      "Trying:\n",
      "    myll[1] = 3\n",
      "Expecting nothing\n",
      "ok\n",
      "Trying:\n",
      "    len(myll)\n",
      "Expecting:\n",
      "    2\n",
      "ok\n",
      "Trying:\n",
      "    myll[2]\n",
      "Expecting:\n",
      "    Traceback (most recent call last):\n",
      "        ...\n",
      "    IndexError: LL index out of range\n",
      "ok\n",
      "Trying:\n",
      "    myll[2] = 3\n",
      "Expecting:\n",
      "    Traceback (most recent call last):\n",
      "        ...\n",
      "    IndexError: LL index out of range\n",
      "ok\n",
      "Trying:\n",
      "    myll[0:1]\n",
      "Expecting:\n",
      "    Traceback (most recent call last):\n",
      "        ...\n",
      "    TypeError: LL indices must be integers\n",
      "ok\n"
     ]
    }
   ],
   "source": [
    "from doctest import run_docstring_examples as dtest\n",
    "dtest(LL, globals(), verbose = True)"
   ]
  },
  {
   "cell_type": "markdown",
   "metadata": {},
   "source": [
    "## Q2.\n",
    "\n",
    "An online mean and standard deviation algorithm.\n",
    "\n",
    "Below is a function to generate a potentially infinite stream of 1-D data."
   ]
  },
  {
   "cell_type": "code",
   "execution_count": 79,
   "metadata": {
    "collapsed": false
   },
   "outputs": [],
   "source": [
    "from random import normalvariate, random\n",
    "from itertools import count\n",
    "def make_data(m, stop=None):\n",
    "    for _ in count():\n",
    "        if stop and _ > stop:\n",
    "            break\n",
    "        yield 1.0e09 + normalvariate(0, m*random() )"
   ]
  },
  {
   "cell_type": "markdown",
   "metadata": {},
   "source": [
    "Here is an implementation of an online mean algorithm..see http://www.johndcook.com/blog/standard_deviation/ and the link to http://www.johndcook.com/blog/2008/09/26/comparing-three-methods-of-computing-standard-deviation/ in-between. (Convince yourselves of the formulas...)"
   ]
  },
  {
   "cell_type": "code",
   "execution_count": 80,
   "metadata": {
    "collapsed": true
   },
   "outputs": [],
   "source": [
    "def online_mean(iterator):\n",
    "    n = 0\n",
    "    mu = 0\n",
    "    for value in iterator:\n",
    "        n += 1\n",
    "        delta = value - mu\n",
    "        mu = mu + delta/n\n",
    "        yield mu"
   ]
  },
  {
   "cell_type": "markdown",
   "metadata": {},
   "source": [
    "We use out generator functions to implement iterators:"
   ]
  },
  {
   "cell_type": "code",
   "execution_count": 81,
   "metadata": {
    "collapsed": false
   },
   "outputs": [
    {
     "data": {
      "text/plain": [
       "[999999998.1009352,\n",
       " 999999996.9731935,\n",
       " 1000000001.3489281,\n",
       " 1000000000.0372918,\n",
       " 999999997.1999049,\n",
       " 999999996.4573429,\n",
       " 999999999.4298329,\n",
       " 1000000000.4441307,\n",
       " 999999999.5465089,\n",
       " 999999998.478025,\n",
       " 999999999.5153759]"
      ]
     },
     "execution_count": 81,
     "metadata": {},
     "output_type": "execute_result"
    }
   ],
   "source": [
    "g = make_data(5, 10)\n",
    "list(g)"
   ]
  },
  {
   "cell_type": "code",
   "execution_count": 82,
   "metadata": {
    "collapsed": false
   },
   "outputs": [
    {
     "name": "stdout",
     "output_type": "stream",
     "text": [
      "<class 'generator'>\n"
     ]
    },
    {
     "data": {
      "text/plain": [
       "[1000000002.0337756,\n",
       " 999999997.5515376,\n",
       " 999999997.3011696,\n",
       " 999999998.869987,\n",
       " 999999999.0991981,\n",
       " 999999999.4224744,\n",
       " 999999999.5184798,\n",
       " 999999999.6991456,\n",
       " 999999999.8681182,\n",
       " 999999999.7399039,\n",
       " 999999999.6246266,\n",
       " 999999999.562332,\n",
       " 999999999.5827533,\n",
       " 999999999.5116601,\n",
       " 999999999.5387083,\n",
       " 999999999.4946338,\n",
       " 999999999.3418417,\n",
       " 999999999.3836049,\n",
       " 999999999.4207344,\n",
       " 999999999.1214067,\n",
       " 999999999.1198987,\n",
       " 999999999.2517658,\n",
       " 999999999.1954701,\n",
       " 999999999.2813827,\n",
       " 999999999.1364646,\n",
       " 999999999.5104522,\n",
       " 999999999.4224758,\n",
       " 999999999.4665787,\n",
       " 999999999.4537013,\n",
       " 999999999.514694,\n",
       " 999999999.44728,\n",
       " 999999999.4532236,\n",
       " 999999999.5591874,\n",
       " 999999999.6167278,\n",
       " 999999999.6643414,\n",
       " 999999999.7008207,\n",
       " 999999999.4177027,\n",
       " 999999999.4732664,\n",
       " 999999999.4373789,\n",
       " 999999999.4608713,\n",
       " 999999999.2744781,\n",
       " 999999999.3512572,\n",
       " 999999999.3045511,\n",
       " 999999999.3255687,\n",
       " 999999999.3892964,\n",
       " 999999999.3645736,\n",
       " 999999999.445489,\n",
       " 999999999.4493933,\n",
       " 999999999.4188956,\n",
       " 999999999.407612,\n",
       " 999999999.4042733,\n",
       " 999999999.4087579,\n",
       " 999999999.2170663,\n",
       " 999999999.2071047,\n",
       " 999999999.2616124,\n",
       " 999999999.2818859,\n",
       " 999999999.2784591,\n",
       " 999999999.3238388,\n",
       " 999999999.379659,\n",
       " 999999999.4230319,\n",
       " 999999999.4194205,\n",
       " 999999999.4210931,\n",
       " 999999999.4721282,\n",
       " 999999999.4912583,\n",
       " 999999999.5067532,\n",
       " 999999999.44181,\n",
       " 999999999.3786112,\n",
       " 999999999.4423932,\n",
       " 999999999.4309305,\n",
       " 999999999.4420059,\n",
       " 999999999.4742234,\n",
       " 999999999.4829258,\n",
       " 999999999.489256,\n",
       " 999999999.546886,\n",
       " 999999999.5578302,\n",
       " 999999999.5502697,\n",
       " 999999999.5704044,\n",
       " 999999999.5633032,\n",
       " 999999999.5664333,\n",
       " 999999999.5146104,\n",
       " 999999999.6031599,\n",
       " 999999999.5614493,\n",
       " 999999999.572499,\n",
       " 999999999.5734981,\n",
       " 999999999.5796971,\n",
       " 999999999.6031861,\n",
       " 999999999.632188,\n",
       " 999999999.641901,\n",
       " 999999999.6701236,\n",
       " 999999999.7392076,\n",
       " 999999999.7714074,\n",
       " 999999999.7222434,\n",
       " 999999999.6919096,\n",
       " 999999999.7014915,\n",
       " 999999999.7384119,\n",
       " 999999999.7612222,\n",
       " 999999999.7500337,\n",
       " 999999999.7680511,\n",
       " 999999999.7739563,\n",
       " 999999999.8229703,\n",
       " 999999999.824404]"
      ]
     },
     "execution_count": 82,
     "metadata": {},
     "output_type": "execute_result"
    }
   ],
   "source": [
    "g = online_mean(make_data(5, 100))\n",
    "print(type(g))\n",
    "list(g)"
   ]
  },
  {
   "cell_type": "markdown",
   "metadata": {},
   "source": [
    "### 2.1\n",
    "\n",
    "Implement the standard deviation algorithm as a generator function as\n",
    "\n",
    "```python\n",
    "def online_mean_dev(iterator):\n",
    "    BLA BLA\n",
    "    if n > 1:\n",
    "        stddev = math.sqrt(dev_accum/(n-1))\n",
    "        yield (n, value, mu, stddev)\n",
    "```"
   ]
  },
  {
   "cell_type": "code",
   "execution_count": 83,
   "metadata": {
    "collapsed": false
   },
   "outputs": [],
   "source": [
    "# your code here\n",
    "import math\n",
    "def online_mean_dev(iterator):\n",
    "    n = 0\n",
    "    mu = 0\n",
    "    dev_accum = 0\n",
    "    stddev = 0\n",
    "    for value in iterator:\n",
    "        n += 1\n",
    "        delta = value - mu\n",
    "        mu = mu + delta/n\n",
    "        delta2 = value - mu\n",
    "        dev_accum += delta*delta2\n",
    "        if n > 1:\n",
    "            stddev = math.sqrt(dev_accum/(n-1))\n",
    "        \n",
    "        yield (n, value, mu, stddev)"
   ]
  },
  {
   "cell_type": "markdown",
   "metadata": {},
   "source": [
    "Here we make 100000 element data, and run this iterator on it (imagine running this on a time-series being slowly read from disk"
   ]
  },
  {
   "cell_type": "code",
   "execution_count": 84,
   "metadata": {
    "collapsed": false
   },
   "outputs": [],
   "source": [
    "data_with_stats = online_mean_dev(make_data(5, 100000))"
   ]
  },
  {
   "cell_type": "markdown",
   "metadata": {},
   "source": [
    "## Q3.\n",
    "\n",
    "Let's do Anomaly detection. Write a routine `is_ok`:\n",
    "\n",
    "```python\n",
    "def is_ok(level, t)\n",
    "```\n",
    "\n",
    "which takes a tuple like the one yielded by your code above and returns True if the value is inbetween `level`-$\\sigma$ of the mean."
   ]
  },
  {
   "cell_type": "code",
   "execution_count": 85,
   "metadata": {
    "collapsed": true
   },
   "outputs": [],
   "source": [
    "#your code here\n",
    "def is_ok(level, t):\n",
    "        lower = t[2]-level*t[3]\n",
    "        upper = t[2]+level*t[3]\n",
    "        if t[1] >= lower and t[1] <= upper:\n",
    "            return True\n",
    "        return False"
   ]
  },
  {
   "cell_type": "markdown",
   "metadata": {},
   "source": [
    "We use this function to create a predicate passed through to `itertools.filterfalse` which is then used to obtain an iterator on the anomalies."
   ]
  },
  {
   "cell_type": "code",
   "execution_count": 86,
   "metadata": {
    "collapsed": true
   },
   "outputs": [],
   "source": [
    "from itertools import filterfalse\n",
    "pred = lambda t: is_ok(5, t)\n",
    "anomalies = filterfalse(pred, data_with_stats)"
   ]
  },
  {
   "cell_type": "markdown",
   "metadata": {},
   "source": [
    "We materialize the anomalies..."
   ]
  },
  {
   "cell_type": "code",
   "execution_count": 87,
   "metadata": {
    "collapsed": false
   },
   "outputs": [
    {
     "data": {
      "text/plain": [
       "[(1714, 999999984.6581658, 1000000000.023108, 2.9348318351651552),\n",
       " (3552, 999999984.7466731, 999999999.9649012, 2.8885284400446563),\n",
       " (6042, 1000000014.6078005, 1000000000.0244086, 2.8879894972660027),\n",
       " (7503, 999999985.0074836, 1000000000.0139667, 2.87994549375869),\n",
       " (8922, 1000000015.4423993, 1000000000.0035586, 2.9130084980158255),\n",
       " (9838, 1000000015.2452554, 1000000000.0217265, 2.90534603386611),\n",
       " (14372, 1000000014.7798038, 1000000000.0292424, 2.883726984373982),\n",
       " (15460, 999999985.3883901, 1000000000.032938, 2.886348516637216),\n",
       " (17415, 999999984.155883, 1000000000.0249616, 2.8899226278408436),\n",
       " (23304, 1000000015.143565, 1000000000.0018549, 2.8804765984275575),\n",
       " (28955, 999999983.8998783, 1000000000.0006971, 2.8824884696790813),\n",
       " (29639, 999999984.6387328, 1000000000.0006018, 2.8846171376436627),\n",
       " (33162, 1000000014.8164409, 1000000000.0095454, 2.893032298829818),\n",
       " (39374, 1000000015.970896, 1000000000.0122882, 2.8935380736152343),\n",
       " (48212, 999999983.6699166, 1000000000.0041666, 2.8968196896408434),\n",
       " (52947, 1000000017.4253875, 1000000000.008157, 2.8956716151254973),\n",
       " (58430, 1000000014.6850276, 1000000000.007359, 2.892869639211553),\n",
       " (62559, 1000000015.2419808, 1000000000.0075531, 2.8903242529172846),\n",
       " (64664, 1000000014.483575, 1000000000.0100253, 2.8918192116598966),\n",
       " (68900, 1000000014.5801864, 1000000000.011881, 2.8907858900683854),\n",
       " (76359, 999999984.441376, 1000000000.0141537, 2.890155514724294),\n",
       " (76368, 999999977.8761358, 1000000000.0140133, 2.8913445687785813),\n",
       " (77537, 999999984.1045898, 1000000000.0145355, 2.890547197583136),\n",
       " (77959, 1000000018.2802494, 1000000000.0159347, 2.8913776659036676),\n",
       " (79938, 999999983.7787187, 1000000000.0166279, 2.892454039168695),\n",
       " (80604, 1000000015.1931574, 1000000000.0177108, 2.892403136512425),\n",
       " (81466, 1000000016.1343316, 1000000000.0180675, 2.892982620948795),\n",
       " (81916, 999999985.184759, 1000000000.0171512, 2.894334204048956),\n",
       " (84387, 999999984.9964553, 1000000000.0157729, 2.8934917388113477),\n",
       " (84416, 999999985.0692408, 1000000000.0156524, 2.894130927531223),\n",
       " (92010, 999999984.3221245, 1000000000.0078319, 2.891023760189296),\n",
       " (95678, 1000000014.4957397, 1000000000.006443, 2.8890490028329547),\n",
       " (96335, 999999984.4491708, 1000000000.0071366, 2.8890779559521342),\n",
       " (99297, 999999984.9838849, 1000000000.0059594, 2.8891964113013935)]"
      ]
     },
     "execution_count": 87,
     "metadata": {},
     "output_type": "execute_result"
    }
   ],
   "source": [
    "list(anomalies)#materialize"
   ]
  },
  {
   "cell_type": "markdown",
   "metadata": {},
   "source": [
    "## To think of, but not hand in\n",
    "\n",
    "What kinds of anomalies will this algorithm pick up? What kinds would a shorter \"window\" of anomaly detection, like 100 points around the time in question pick? How might you create an algorithm which does window based averaging? (hint: the window size is small compared to the time series size). \n",
    "\n",
    "Finally think a bit of how you might implement all of this in a production environment..remember that data streaming in might get backed up when you handle an anomaly.\n",
    "\n",
    "(Some inspiration might accrue if you look at the docs for `collections.deque`)."
   ]
  }
 ],
 "metadata": {
  "anaconda-cloud": {},
  "kernelspec": {
   "display_name": "Python [py35]",
   "language": "python",
   "name": "Python [py35]"
  },
  "language_info": {
   "codemirror_mode": {
    "name": "ipython",
    "version": 3
   },
   "file_extension": ".py",
   "mimetype": "text/x-python",
   "name": "python",
   "nbconvert_exporter": "python",
   "pygments_lexer": "ipython3",
   "version": "3.5.2"
  }
 },
 "nbformat": 4,
 "nbformat_minor": 0
}
