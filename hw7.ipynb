{
 "cells": [
  {
   "cell_type": "markdown",
   "metadata": {},
   "source": [
    "## Q1. Median Maintenance using a Heap\n",
    "\n",
    "\n",
    "### Part 1\n",
    "\n",
    "Implement a \"dominant heap\" class `BinaryHeap`, which can handle both the min heap and the max heap cases, by having the constructor explicitly pass the \"comparison\" operator in. Replace min and del_min by dominant and del_dominant methods. Change the classmethod to also take in the operator."
   ]
  },
  {
   "cell_type": "code",
   "execution_count": 63,
   "metadata": {
    "collapsed": true
   },
   "outputs": [],
   "source": [
    "#your code here\n",
    "class BinaryHeap:\n",
    "    def __init__(self, operator):\n",
    "        self.storage=[None]\n",
    "        self.upto=0\n",
    "        #parse in an operator\n",
    "        self.operator = operator            \n",
    "        \n",
    "    @classmethod\n",
    "    def heapify_slow(cls, it, operator):\n",
    "        #parse in the operator into cls\n",
    "        inst = cls(operator)\n",
    "        for i in it:\n",
    "            inst.insert(i)\n",
    "        return inst\n",
    "            \n",
    "    def insert(self, value):\n",
    "        self.storage.append(value)\n",
    "        self.upto += 1\n",
    "        self.sift_up(self.upto)\n",
    "\n",
    "    def sift_up(self, i):\n",
    "        parent = i // 2\n",
    "        #change the operation with the operator\n",
    "        if parent > 0 and self.operator(self.storage[i], self.storage[parent]):\n",
    "            self.storage[i], self.storage[parent] = self.storage[parent], self.storage[i]\n",
    "            self.sift_up(parent)\n",
    "     \n",
    "    #change _min_child to _dominant_child which takes the two conditions into consideration\n",
    "    def _dominant_child(self, i):\n",
    "        if 2*i + 1 > self.upto:\n",
    "            return 2*i\n",
    "        else:\n",
    "            l = (self.storage[2*i], self.storage[2*i+1])\n",
    "            if self.operator is lt:\n",
    "                return 2*i + l.index(min(l))\n",
    "            else: \n",
    "                return 2*i + l.index(max(l))\n",
    "    \n",
    "    def sift_down(self, i):\n",
    "        dotify(self.storage, \"delimg\"+str(i).zfill(2))\n",
    "        if 2*i <= self.upto:\n",
    "            child = self._dominant_child(i)\n",
    "            #change the operation with the operator\n",
    "            if self.operator(self.storage[child], self.storage[i]):\n",
    "                self.storage[child], self.storage[i] = self.storage[i], self.storage[child]\n",
    "                self.sift_down(child)\n",
    "        \n",
    "    def dominant(self):\n",
    "        return self.storage[1]\n",
    "    \n",
    "    def del_dominant(self):\n",
    "        opval = self.storage[1]\n",
    "        self.storage[1], self.storage[self.upto] = self.storage[self.upto], self.storage[1]\n",
    "        self.storage.pop()\n",
    "        self.upto -= 1\n",
    "        self.sift_down(1)\n",
    "        return opval"
   ]
  },
  {
   "cell_type": "code",
   "execution_count": 64,
   "metadata": {
    "collapsed": true
   },
   "outputs": [],
   "source": [
    "#import libraries and add the dotify function\n",
    "import subprocess\n",
    "from IPython.display import Image\n",
    "def dotify(l, fname):\n",
    "    start = \"\"\"\n",
    "    digraph G {\n",
    "    nodesep=0.3;\n",
    "    ranksep=0.2;\n",
    "    margin=0.1;\n",
    "    node [shape=circle];\n",
    "    edge [arrowsize=0.8];\n",
    "    \"\"\"\n",
    "    end = \"}\"\n",
    "    labels=dict(enumerate(l))\n",
    "    for i, v in labels.items():\n",
    "        if i!=0 and 2*i < len(l):\n",
    "            line1 = \"{} -> {}[side=left];\\n\".format(i, 2*i)\n",
    "        else:\n",
    "            line1=\"\"\n",
    "        if i!=0 and 2*i + 1 < len(l):\n",
    "            line2 = \"{} -> {};\\n\".format(i, 2*i+1)\n",
    "        else:\n",
    "            line2 = \"\"\n",
    "        start = start + line1 + line2\n",
    "    end = \"\\n\".join(\"{}[label=\\\"{}\\\"]\".format(i, labels[i]) for i in labels if i!=0) + end\n",
    "    with open(fname+\".dot\",\"w\") as fd:\n",
    "        fd.write(start+end)\n",
    "    subprocess.call(['./treeplot.sh', fname])"
   ]
  },
  {
   "cell_type": "code",
   "execution_count": 65,
   "metadata": {
    "collapsed": true
   },
   "outputs": [],
   "source": [
    "#implement with a list\n",
    "data = [1,8,5,9,23,2,45,6,7,99,-5]"
   ]
  },
  {
   "cell_type": "code",
   "execution_count": 66,
   "metadata": {
    "collapsed": false
   },
   "outputs": [
    {
     "name": "stdout",
     "output_type": "stream",
     "text": [
      "[None, -5, 1, 2, 7, 6, 5, 45, 9, 8, 99, 23]\n"
     ]
    },
    {
     "data": {
      "text/plain": [
       "-5"
      ]
     },
     "execution_count": 66,
     "metadata": {},
     "output_type": "execute_result"
    }
   ],
   "source": [
    "from operator import gt, lt\n",
    "#min heap\n",
    "bh = BinaryHeap.heapify_slow(data, lt)\n",
    "print(bh.storage)\n",
    "bh.dominant()"
   ]
  },
  {
   "cell_type": "code",
   "execution_count": 67,
   "metadata": {
    "collapsed": false
   },
   "outputs": [
    {
     "data": {
      "text/plain": [
       "-5"
      ]
     },
     "execution_count": 67,
     "metadata": {},
     "output_type": "execute_result"
    }
   ],
   "source": [
    "#try del_dominant\n",
    "bh.del_dominant()"
   ]
  },
  {
   "cell_type": "code",
   "execution_count": 68,
   "metadata": {
    "collapsed": false
   },
   "outputs": [
    {
     "data": {
      "text/plain": [
       "1"
      ]
     },
     "execution_count": 68,
     "metadata": {},
     "output_type": "execute_result"
    }
   ],
   "source": [
    "bh.del_dominant()"
   ]
  },
  {
   "cell_type": "code",
   "execution_count": 69,
   "metadata": {
    "collapsed": false
   },
   "outputs": [
    {
     "data": {
      "text/plain": [
       "2"
      ]
     },
     "execution_count": 69,
     "metadata": {},
     "output_type": "execute_result"
    }
   ],
   "source": [
    "bh.del_dominant()"
   ]
  },
  {
   "cell_type": "code",
   "execution_count": 70,
   "metadata": {
    "collapsed": false
   },
   "outputs": [
    {
     "data": {
      "text/plain": [
       "5"
      ]
     },
     "execution_count": 70,
     "metadata": {},
     "output_type": "execute_result"
    }
   ],
   "source": [
    "bh.del_dominant()"
   ]
  },
  {
   "cell_type": "code",
   "execution_count": 72,
   "metadata": {
    "collapsed": false
   },
   "outputs": [
    {
     "name": "stdout",
     "output_type": "stream",
     "text": [
      "[None, 99, 45, 23, 7, 9, 2, 5, 1, 6, 8, -5]\n"
     ]
    },
    {
     "data": {
      "text/plain": [
       "99"
      ]
     },
     "execution_count": 72,
     "metadata": {},
     "output_type": "execute_result"
    }
   ],
   "source": [
    "#max heap\n",
    "bh = BinaryHeap.heapify_slow(data, gt)\n",
    "print(bh.storage)\n",
    "bh.dominant()"
   ]
  },
  {
   "cell_type": "code",
   "execution_count": 96,
   "metadata": {
    "collapsed": false
   },
   "outputs": [
    {
     "data": {
      "text/plain": [
       "12"
      ]
     },
     "execution_count": 96,
     "metadata": {},
     "output_type": "execute_result"
    }
   ],
   "source": [
    "len(bh.storage)"
   ]
  },
  {
   "cell_type": "markdown",
   "metadata": {},
   "source": [
    "### Part 2\n",
    "\n",
    "Median maintenance is a very cool algorithm to find an online median.\n",
    "We create two arrays to test our implementation, using np.median to test our answer..."
   ]
  },
  {
   "cell_type": "code",
   "execution_count": 140,
   "metadata": {
    "collapsed": false
   },
   "outputs": [
    {
     "name": "stdout",
     "output_type": "stream",
     "text": [
      "150 460.0\n",
      "151 458.0\n"
     ]
    }
   ],
   "source": [
    "import random\n",
    "import numpy as np\n",
    "l = [random.randint(1,1000) for _ in range(150)]\n",
    "print(len(l), np.median(l))\n",
    "l2 = l + [random.randint(1,1000)]\n",
    "print(len(l2), np.median(l2))"
   ]
  },
  {
   "cell_type": "markdown",
   "metadata": {},
   "source": [
    "You will implement def online_median(iterator) which is a generator yielding successive values of your online median.\n",
    "\n",
    "The algorithm is as follows:\n",
    "\n",
    "We'll use 2 heaps, a max heap for the lower half of the data, and a min-heap for the upper half. We take the first 2values in our data and assign the smaller value to the max heap, while the larger value goes to the min-heap. Then, as we \"insert\" subsequent values in one of the two heaps, the following holds: if we keep the number of elements in both heaps equal (for the even case) or at-most differing by one, the median is respectively the average of the two dominants or the dominant in the heap with one extra item.\n",
    "\n",
    "What then is our strategy for this balanced insertion? Quite simple really: if a new value is not as dominant as the dominant value, add it to that heap. If it is more dominant, add it to the other. If two items in a row get added to the same heap, the heaps will be out of balance by more than one. In this case, take the dominant element from the larger heap and simply add it to the smaller one."
   ]
  },
  {
   "cell_type": "code",
   "execution_count": 142,
   "metadata": {
    "collapsed": true
   },
   "outputs": [],
   "source": [
    "#your code here\n",
    "def online_median(iterator):\n",
    "    \n",
    "    min_heap = BinaryHeap(lt)\n",
    "    max_heap = BinaryHeap(gt)\n",
    "    \n",
    "    a = next(iterator)\n",
    "    yield a\n",
    "    #if there are only two values, the average should be yield as the median\n",
    "    b = next(iterator)\n",
    "    yield (a+b)/2\n",
    "    \n",
    "    #assign the smaller value to the max-heap, while the larger value goes to the min-heap\n",
    "    min_heap.insert(max(a,b))\n",
    "    max_heap.insert(min(a,b))\n",
    "    \n",
    "    #heapify the values one by one\n",
    "    for i in iterator:   \n",
    "        if i > min_heap.dominant():\n",
    "            min_heap.insert(i)\n",
    "            yield min_heap.dominant()\n",
    "        else:\n",
    "            max_heap.insert(i)\n",
    "            yield max_heap.dominant()\n",
    "\n",
    "        #if the number of values is odd, the loop would stop here    \n",
    "        b = next(iterator)\n",
    "        if b > min_heap.dominant():\n",
    "            min_heap.insert(b)\n",
    "        else:\n",
    "            max_heap.insert(b)\n",
    "        \n",
    "        lmin = len(min_heap.storage)\n",
    "        lmax = len(max_heap.storage)\n",
    "        \n",
    "        #calculate the median \n",
    "        if lmin == lmax:\n",
    "            yield (min_heap.dominant()+max_heap.dominant())/2\n",
    "        elif lmin-lmax==2:\n",
    "            max_heap.insert(min_heap.dominant())\n",
    "            min_heap.del_dominant()\n",
    "            yield (min_heap.dominant()+max_heap.dominant())/2\n",
    "        elif lmax-lmin==2:\n",
    "            min_heap.insert(max_heap.dominant())\n",
    "            max_heap.del_dominant()\n",
    "            yield (min_heap.dominant()+max_heap.dominant())/2      "
   ]
  },
  {
   "cell_type": "markdown",
   "metadata": {},
   "source": [
    "Do your answers match?\n"
   ]
  },
  {
   "cell_type": "code",
   "execution_count": 153,
   "metadata": {
    "collapsed": false
   },
   "outputs": [
    {
     "name": "stdout",
     "output_type": "stream",
     "text": [
      "150\n",
      "460.0\n"
     ]
    },
    {
     "data": {
      "text/plain": [
       "[<matplotlib.lines.Line2D at 0x10e824048>]"
      ]
     },
     "execution_count": 153,
     "metadata": {},
     "output_type": "execute_result"
    },
    {
     "data": {
      "image/png": "[encoded data removed]",
      "text/plain": [
       "<matplotlib.figure.Figure at 0x10e6e7080>"
      ]
     },
     "metadata": {},
     "output_type": "display_data"
    }
   ],
   "source": [
    "%matplotlib inline\n",
    "import matplotlib.pyplot as plt\n",
    "medians = list(online_median(iter(l)))\n",
    "print(len(medians))\n",
    "print(medians[-1])\n",
    "plt.plot(medians)"
   ]
  },
  {
   "cell_type": "code",
   "execution_count": 155,
   "metadata": {
    "collapsed": false
   },
   "outputs": [
    {
     "name": "stdout",
     "output_type": "stream",
     "text": [
      "151\n"
     ]
    },
    {
     "data": {
      "text/plain": [
       "458"
      ]
     },
     "execution_count": 155,
     "metadata": {},
     "output_type": "execute_result"
    }
   ],
   "source": [
    "print(len(list(online_median(iter(l2)))))\n",
    "list(online_median(iter(l2)))[-1]"
   ]
  },
  {
   "cell_type": "markdown",
   "metadata": {},
   "source": [
    "Lastly, lets repeat the analysis we did last time on the randomly generated data."
   ]
  },
  {
   "cell_type": "code",
   "execution_count": 156,
   "metadata": {
    "collapsed": true
   },
   "outputs": [],
   "source": [
    "from random import normalvariate, random\n",
    "from itertools import count\n",
    "def make_data(m, stop=None):\n",
    "    for _ in count():\n",
    "        if stop and _ > stop:\n",
    "            break\n",
    "        yield 1.0e09 + normalvariate(0, m*random() )"
   ]
  },
  {
   "cell_type": "code",
   "execution_count": 157,
   "metadata": {
    "collapsed": false
   },
   "outputs": [
    {
     "name": "stdout",
     "output_type": "stream",
     "text": [
      "<class 'generator'>\n"
     ]
    },
    {
     "data": {
      "text/plain": [
       "[999999999.9328725,\n",
       " 999999999.922135,\n",
       " 999999999.9328725,\n",
       " 999999999.922135,\n",
       " 999999999.9128408,\n",
       " 999999999.922135,\n",
       " 999999999.9328725,\n",
       " 999999999.922135,\n",
       " 999999999.9128408,\n",
       " 999999999.9035467]"
      ]
     },
     "execution_count": 157,
     "metadata": {},
     "output_type": "execute_result"
    }
   ],
   "source": [
    "g = online_median(make_data(5, 100))\n",
    "print(type(g))\n",
    "out = list(g)\n",
    "out[-10:]"
   ]
  },
  {
   "cell_type": "code",
   "execution_count": 158,
   "metadata": {
    "collapsed": false
   },
   "outputs": [
    {
     "data": {
      "text/plain": [
       "[<matplotlib.lines.Line2D at 0x10e9d5320>]"
      ]
     },
     "execution_count": 158,
     "metadata": {},
     "output_type": "execute_result"
    },
    {
     "data": {
      "image/png": "[encoded data removed]",
      "text/plain": [
       "<matplotlib.figure.Figure at 0x10e7fc7b8>"
      ]
     },
     "metadata": {},
     "output_type": "display_data"
    }
   ],
   "source": [
    "plt.plot(out)"
   ]
  },
  {
   "cell_type": "markdown",
   "metadata": {},
   "source": [
    "## Q2\n",
    "\n",
    "### Simulating a flight check-in counter\n",
    "\n",
    "It is your job to simulate a flight-checkin counter. There are m agents handling n passengers. The passengers arrive in line with in-between time given by an exponential distribution for INTER_ARRIVAL_TIME. Each passenger, once he or she gets to a counter, is processed in a time drawn from an exponential distribution with PROCESSING_TIME. \n",
    "\n",
    "Clearly, in the usual case of 3-4 agents and 200+ customers on a flight, the customer waits much longer. We have been hired by the airlines customer-relations group to see how many extra agents must we hire to reduce waiting times by how much.\n",
    "\n",
    "We start by representing each customer by a co-routine, which starts with the `inline` event. The state changes to the `atcounter` event, and then `ptime` seconds later, to the `leaves` event. Notice how this customer \"process\" is stopped at the yield, until the customer can be handled."
   ]
  },
  {
   "cell_type": "code",
   "execution_count": 159,
   "metadata": {
    "collapsed": true
   },
   "outputs": [],
   "source": [
    "import collections, random\n",
    "Event = collections.namedtuple('Event', 'time cid action agent')\n",
    "def customer_process(idee, start, ptime):\n",
    "    t, agent = yield Event(start, idee, \"inline\", None)\n",
    "    t, agent = yield Event(t, idee, \"atcounter\", agent)\n",
    "    yield Event(t+ptime, idee, \"leaves\", agent)"
   ]
  },
  {
   "cell_type": "markdown",
   "metadata": {},
   "source": [
    "The following function simply implements the draw from the exponential distribution for a given customer:"
   ]
  },
  {
   "cell_type": "code",
   "execution_count": 160,
   "metadata": {
    "collapsed": true
   },
   "outputs": [],
   "source": [
    "def duration(arr_time, service_time):\n",
    "    return random.expovariate(1./arr_time), random.expovariate(1./service_time)"
   ]
  },
  {
   "cell_type": "markdown",
   "metadata": {},
   "source": [
    "Here is our main simulation class. you will be filling in parts of this class.\n",
    "\n",
    "The constructor sets up the simulation. Three queues are created, one for agents that become free, one priority queue for events so that they can be processed in the order recieved, and a backlog for queue for those customers waiting in line because no agent was available.\n",
    "\n",
    "We set up all the customers in the constructor, with two dictionaries, one to hold the co-routines, and one to hold time metadata which we shall use to figure the average waiting time.\n",
    "\n",
    "The `run` method is where all the action happens and is the one you will edit."
   ]
  },
  {
   "cell_type": "code",
   "execution_count": 167,
   "metadata": {
    "collapsed": false
   },
   "outputs": [],
   "source": [
    "import queue\n",
    "import logging\n",
    "class Simulator:\n",
    "    \n",
    "    def __init__(self, n_agents, n_customers, INTER_ARRIVAL_TIME =1., PROCESSING_TIME=3., DEBUG=False ): \n",
    "        #queues\n",
    "        self.free_agents = queue.Queue()\n",
    "        self.backlog = queue.Queue()\n",
    "        self.events=queue.PriorityQueue()\n",
    "        #save the arguments\n",
    "        self.n_customers = n_customers\n",
    "        self.n_agents = n_agents\n",
    "        self.intertime=INTER_ARRIVAL_TIME\n",
    "        self.proctime=PROCESSING_TIME\n",
    "        #dictionaries to hold customer process\n",
    "        self.customers={}\n",
    "        self.customer_meta={}\n",
    "        self.logger = logging.getLogger(\"sim\")\n",
    "        if DEBUG:\n",
    "            self.logger.setLevel(logging.DEBUG)\n",
    "        else:\n",
    "            self.logger.setLevel(logging.WARNING)\n",
    "            \n",
    "        #on the free_agents queue, we put all the agents, and the time they got free\n",
    "        for i in range(n_agents):\n",
    "            self.free_agents.put((i,0))\n",
    "            \n",
    "        #this tracks when each customer came in.          \n",
    "        time_when_came=0.\n",
    "        for j in range(n_customers):\n",
    "            interarrtime, proctime = duration(self.intertime, self.proctime)\n",
    "            time_when_came += interarrtime\n",
    "            intuple = (j, time_when_came, proctime)\n",
    "            c = customer_process(*intuple)\n",
    "            self.logger.debug(\"Customer {}, arrived {}, will take {} at counter\".format(*intuple))\n",
    "            #add each customer to dictionaries\n",
    "            self.customers[j]=c\n",
    "            self.customer_meta[j]={'cid':j, 'start':time_when_came, 'finish':None}\n",
    "        self.logger.debug(\"========ending init==============\\n\\n\")\n",
    "        self.max_time_when_came=time_when_came  \n",
    "\n",
    "    def run(self, end_time):\n",
    "        logger = logging.getLogger()\n",
    "        logger.addHandler(logging.StreamHandler())\n",
    "        #we prime each customer co-routine at the start\n",
    "        #and put that event in the events priority queue\n",
    "        #Since an event is a tuple, the ordering will be by start time\n",
    "        for cid, proc in sorted(self.customers.items()):\n",
    "            first_event = next(proc)#prime\n",
    "            self.events.put(first_event)#customer in line\n",
    "\n",
    "        #start at time 0\n",
    "        sim_time = 0\n",
    "        while sim_time < end_time:\n",
    "            #we are done if no events and no backlog\n",
    "            if self.events.empty() and self.backlog.empty(): \n",
    "                self.logger.debug('*** end of events and backlog***') \n",
    "                break\n",
    "                \n",
    "            #if we have agents available and a backlog, take customer from backlog queue. \n",
    "            #This is equivalent to taking customers from line\n",
    "            if not self.backlog.empty() and not self.free_agents.empty():\n",
    "                # YOUR CODE HERE\n",
    "                current_event = self.backlog.get()\n",
    "                #the sim time from this branch will be false\n",
    "                #as we get the old time the person in the line showed up\n",
    "            else: \n",
    "                #get current event in all other cases\n",
    "                #this ensures that leave events are processed thus freeing up agents\n",
    "                #YOUR CODE HERE\n",
    "                current_event = self.events.get()\n",
    "            \n",
    "            sim_time, cid, action, agent = current_event\n",
    "            #get the current customer process\n",
    "            #throw exception here in case of the error \n",
    "            try:\n",
    "                cproc = self.customers[cid]\n",
    "            except Exception:\n",
    "                print(\"Error!:\",self.customers, cid)\n",
    "            next_time = -1    \n",
    "                \n",
    "            if action=='leaves':\n",
    "                self.logger.debug(\">>>Customer {} leaves, agent {} free at {}\".format(cid, agent, sim_time))\n",
    "                #an agent gets free. Put the time they got free on q\n",
    "                #also update the metadata\n",
    "                self.free_agents.put((agent, sim_time))\n",
    "                self.customer_meta[cid]['finish']=sim_time\n",
    "            elif action=='atcounter':\n",
    "                self.logger.debug(\"Customer {} atcounter Agent {} at {}\".format(cid, agent, sim_time))\n",
    "                next_time = sim_time#processing time already in coroutine\n",
    "            elif action=='inline':#the agent is None to start\n",
    "                self.logger.debug('----------------------------------------------')\n",
    "                self.logger.debug(\"Customer {}, arrived in line @ {}.\".format(cid, sim_time))\n",
    "\n",
    "                if self.free_agents.empty():\n",
    "                    self.logger.debug(\"NO agents available, putting {} inline on backlog at {}\".format(cid, sim_time))\n",
    "                    #YOUR CODE HERE\n",
    "                    self.backlog.put(Event(sim_time, cid, \"inline\", None))\n",
    "                else:\n",
    "                    self.logger.debug(\"{} agents available to serve.\".format(self.free_agents.qsize()))\n",
    "                    #YOUR CODE HERE\n",
    "                    (agent, t) = self.free_agents.get()\n",
    "                    next_time = max(sim_time, t)\n",
    "                    \n",
    "                    #handle both situations of getting from backlog or regular. \n",
    "                    #The time in next_time which you will send in message to co-routine\n",
    "                    #below are different\n",
    "                    self.logger.debug(\"Customer {} inline to be served by Agent {} at {}\".format(cid, agent, next_time))\n",
    "            #drive the co-routine by sending in time and agent, and getting\n",
    "            #next event out. The event is put into the priority queue.\n",
    "            if next_time != -1:\n",
    "                try:\n",
    "                    next_event = cproc.send((next_time, agent)) \n",
    "                except StopIteration:\n",
    "                    del self.customers[cid] \n",
    "                else:\n",
    "                    self.events.put(next_event)\n",
    "                \n",
    "    def compute_ptimes(self):\n",
    "        ptimes=[]\n",
    "        for j in range(self.n_customers):\n",
    "            #print(j,self.customer_meta[j] )\n",
    "            if self.customer_meta[j]['finish']!=None:\n",
    "                ptimes.append(self.customer_meta[j]['finish'] - self.customer_meta[j]['start'])\n",
    "        return ptimes"
   ]
  },
  {
   "cell_type": "code",
   "execution_count": 168,
   "metadata": {
    "collapsed": true
   },
   "outputs": [],
   "source": [
    "def sim_main(num_agents, num_customers, extratime=20., seed=None, debug=False):\n",
    "    if seed is not None:\n",
    "        random.seed(seed)\n",
    "    sim = Simulator(num_agents, num_customers, DEBUG=debug)\n",
    "    sim.run(sim.max_time_when_came+extratime)\n",
    "    return sim"
   ]
  },
  {
   "cell_type": "markdown",
   "metadata": {},
   "source": [
    "Start small to test this out."
   ]
  },
  {
   "cell_type": "code",
   "execution_count": 169,
   "metadata": {
    "collapsed": false
   },
   "outputs": [
    {
     "name": "stderr",
     "output_type": "stream",
     "text": [
      "----------------------------------------------\n",
      "Customer 0, arrived in line @ 0.6943550714362459.\n",
      "2 agents available to serve.\n",
      "Customer 0 inline to be served by Agent 0 at 0.6943550714362459\n",
      "Customer 0 atcounter Agent 0 at 0.6943550714362459\n",
      "----------------------------------------------\n",
      "Customer 1, arrived in line @ 2.8317503620389592.\n",
      "1 agents available to serve.\n",
      "Customer 1 inline to be served by Agent 1 at 2.8317503620389592\n",
      "Customer 1 atcounter Agent 1 at 2.8317503620389592\n",
      ">>>Customer 0 leaves, agent 0 free at 2.9695927086393157\n",
      ">>>Customer 1 leaves, agent 1 free at 3.3644780624731174\n",
      "----------------------------------------------\n",
      "Customer 2, arrived in line @ 3.96165296850796.\n",
      "2 agents available to serve.\n",
      "Customer 2 inline to be served by Agent 0 at 3.96165296850796\n",
      "Customer 2 atcounter Agent 0 at 3.96165296850796\n",
      ">>>Customer 2 leaves, agent 0 free at 4.761480414619505\n",
      "----------------------------------------------\n",
      "Customer 3, arrived in line @ 5.682821234287344.\n",
      "2 agents available to serve.\n",
      "Customer 3 inline to be served by Agent 1 at 5.682821234287344\n",
      "Customer 3 atcounter Agent 1 at 5.682821234287344\n",
      ">>>Customer 3 leaves, agent 1 free at 5.979719136538288\n",
      "----------------------------------------------\n",
      "Customer 4, arrived in line @ 7.105200775263249.\n",
      "2 agents available to serve.\n",
      "Customer 4 inline to be served by Agent 0 at 7.105200775263249\n",
      "Customer 4 atcounter Agent 0 at 7.105200775263249\n",
      ">>>Customer 4 leaves, agent 0 free at 7.840156074154241\n",
      "----------------------------------------------\n",
      "Customer 5, arrived in line @ 8.948687073917602.\n",
      "2 agents available to serve.\n",
      "Customer 5 inline to be served by Agent 1 at 8.948687073917602\n",
      "Customer 5 atcounter Agent 1 at 8.948687073917602\n",
      ">>>Customer 5 leaves, agent 1 free at 10.653230782703012\n",
      "*** end of events and backlog***\n"
     ]
    }
   ],
   "source": [
    "sim=sim_main(2,6, debug=True)"
   ]
  },
  {
   "cell_type": "markdown",
   "metadata": {},
   "source": [
    "Now lets try it with some larger numbers."
   ]
  },
  {
   "cell_type": "code",
   "execution_count": 170,
   "metadata": {
    "collapsed": false
   },
   "outputs": [
    {
     "data": {
      "image/png": "[encoded data removed]",
      "text/plain": [
       "<matplotlib.figure.Figure at 0x10ea8ae80>"
      ]
     },
     "metadata": {},
     "output_type": "display_data"
    }
   ],
   "source": [
    "%matplotlib inline\n",
    "import matplotlib.pyplot as plt\n",
    "sim=sim_main(3,100)\n",
    "plt.hist(sim.compute_ptimes(), bins=20);"
   ]
  },
  {
   "cell_type": "code",
   "execution_count": 171,
   "metadata": {
    "collapsed": false
   },
   "outputs": [
    {
     "data": {
      "image/png": "[encoded data removed]",
      "text/plain": [
       "<matplotlib.figure.Figure at 0x10ec05ac8>"
      ]
     },
     "metadata": {},
     "output_type": "display_data"
    }
   ],
   "source": [
    "sim2=sim_main(4,100)\n",
    "plt.hist(sim2.compute_ptimes(), bins=20);"
   ]
  },
  {
   "cell_type": "markdown",
   "metadata": {},
   "source": [
    "extra time needed below as with 400 passengers a long time is taken to process."
   ]
  },
  {
   "cell_type": "code",
   "execution_count": 172,
   "metadata": {
    "collapsed": false
   },
   "outputs": [
    {
     "data": {
      "image/png": "[encoded data removed]",
      "text/plain": [
       "<matplotlib.figure.Figure at 0x10efd2908>"
      ]
     },
     "metadata": {},
     "output_type": "display_data"
    }
   ],
   "source": [
    "sim2=sim_main(2,400, extratime=100)\n",
    "plt.hist(sim2.compute_ptimes(), bins=20);"
   ]
  },
  {
   "cell_type": "markdown",
   "metadata": {},
   "source": [
    "For a proper statistical analysis, you would want to draw this multiple times and look at the distribution of the averages as well. But you should know what this distribution is :-)."
   ]
  }
 ],
 "metadata": {
  "anaconda-cloud": {},
  "kernelspec": {
   "display_name": "Python [py35]",
   "language": "python",
   "name": "Python [py35]"
  },
  "language_info": {
   "codemirror_mode": {
    "name": "ipython",
    "version": 3
   },
   "file_extension": ".py",
   "mimetype": "text/x-python",
   "name": "python",
   "nbconvert_exporter": "python",
   "pygments_lexer": "ipython3",
   "version": "3.5.2"
  }
 },
 "nbformat": 4,
 "nbformat_minor": 0
}
